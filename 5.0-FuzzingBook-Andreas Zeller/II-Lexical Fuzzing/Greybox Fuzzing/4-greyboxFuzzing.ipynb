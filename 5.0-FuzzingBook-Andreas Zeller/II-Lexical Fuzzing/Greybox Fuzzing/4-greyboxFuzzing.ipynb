{
 "cells": [
  {
   "cell_type": "code",
   "execution_count": 1,
   "metadata": {},
   "outputs": [
    {
     "name": "stdout",
     "output_type": "stream",
     "text": [
      "Fuzzing completed!\n",
      "Number of tests executed: 10000\n",
      "Final population size: 84\n"
     ]
    }
   ],
   "source": [
    "from fuzzingbook.GreyboxFuzzer import GreyboxFuzzer, FunctionCoverageRunner, Mutator, PowerSchedule, http_program\n",
    "# 1. 设置初始种子输入 \n",
    "seed_input = \"http://www.google.com/search?q=fuzzing\"\n",
    "seeds = [seed_input]\n",
    "\n",
    "# 2. 使用库中定义好的类\n",
    "mutator = Mutator()\n",
    "schedule = PowerSchedule()\n",
    "\n",
    "# 3. 初始化灰盒模糊测试器\n",
    "greybox_fuzzer = GreyboxFuzzer(\n",
    "   seeds=seeds,\n",
    "   mutator=mutator, \n",
    "   schedule=schedule\n",
    ")\n",
    "\n",
    "# 4. 使用库中的示例HTTP程序\n",
    "http_runner = FunctionCoverageRunner(http_program)\n",
    "\n",
    "# 5. 运行模糊测试\n",
    "outcomes = greybox_fuzzer.runs(http_runner, trials=10000)\n",
    "\n",
    "# 6. 查看结果\n",
    "print(\"Fuzzing completed!\")\n",
    "print(f\"Number of tests executed: {len(outcomes)}\")\n",
    "print(f\"Final population size: {len(greybox_fuzzer.population)}\")"
   ]
  },
  {
   "cell_type": "code",
   "execution_count": 6,
   "metadata": {},
   "outputs": [
    {
     "data": {
      "text/plain": [
       "[http://www.google.com/search?q=fuzzing,\n",
       " http:./www.gooXgle,com/serCh?q=fuzzuio3g,\n",
       " hVt:./w7m%ww.c0mox|e,#\tco/sdr*?=&wzZzuio3gP,\n",
       " httmp//www.google.am/suarch?6q=OfuzXzing,\n",
       " htt://www.googlecom/search;q=fuzzLing,\n",
       " htxtt\"://www.googl.+a?om/search?q=fuzzping,\n",
       " hVt./w7m%ww>c0mox|e,#\tco/sr*?=&wzZzui2o3gP,\n",
       " hpt:./gww.gooXflecom/ser_Ch?q=fuzui^o3g,\n",
       " xttt#a2B\u0007a?/wvw:gmogl.ka?#o//saach?q=fu,~zpImngg',\n",
       " vt:.gu.goXfleWaom/sgrCh=q<fuui^3g,\n",
       " (tx4t&}/:\u0005/wgwgogL;.I+a?{m/s$#echq=Vzzpng,\n",
       " http://sww.goowle.cOm/se.achqfuzzin,\n",
       " htP//swwGoowle.cOmse.aRchqRfuTzfzio,\n",
       " (tYx4t&}/8\u0005/wgwgk/&gL;.I+a?{m/s$es0h=RzzpE,\n",
       " Htxtt://wwCw.gRog]l.\n",
       " aF?oM/each?q=fuzz>%ing,\n",
       " Htxtt://wwCw.Rog_l.aF?oM/eac(?q=fuzz>%ing,\n",
       " htt2//www.googlecom/serch;q=fuzzLing,\n",
       " http://swxwS.gowde.cO\u000fse.bichqfuzzin,\n",
       " hvtp://swXwS.gowecO\u000fse.bichqfuzzin,\n",
       " tHtmp;-j/www.*x7goghlEpm`mgO/uach{?qOfzXig]"
      ]
     },
     "execution_count": 6,
     "metadata": {},
     "output_type": "execute_result"
    }
   ],
   "source": [
    "greybox_fuzzer.population[:20]"
   ]
  },
  {
   "cell_type": "markdown",
   "metadata": {},
   "source": [
    "除了简单的 `PowerSchedule`，我们还可以使用一些高级的能量调度：\n",
    "\n",
    "* `AFLFastSchedule` 为不经常执行的\"不寻常\"路径分配高能量。\n",
    "* `AFLGoSchedule` 为接近未覆盖程序位置的路径分配高能量。\n",
    "`AFLGoSchedule` 类的构造函数需要一个从每个节点到目标位置的 `distance` 度量，这个度量是通过分析程序代码来确定的。详细信息请参阅本章内容。"
   ]
  },
  {
   "cell_type": "markdown",
   "metadata": {},
   "source": [
    "`PowerSchedule`其中的一个基础就是让random.choices按照每个值的权重来选择，即可以通过每个值的能量来控制其被选择的概率。"
   ]
  },
  {
   "cell_type": "code",
   "execution_count": 3,
   "metadata": {},
   "outputs": [
    {
     "name": "stdout",
     "output_type": "stream",
     "text": [
      "['apple', 'apple', 'apple']\n"
     ]
    }
   ],
   "source": [
    "import random\n",
    "\n",
    "mylist = [\"apple\", \"banana\", \"cherry\"]\n",
    "\n",
    "print(random.choices(mylist, weights = [10, 1, 1], k = 3))\n"
   ]
  }
 ],
 "metadata": {
  "kernelspec": {
   "display_name": "base",
   "language": "python",
   "name": "python3"
  },
  "language_info": {
   "codemirror_mode": {
    "name": "ipython",
    "version": 3
   },
   "file_extension": ".py",
   "mimetype": "text/x-python",
   "name": "python",
   "nbconvert_exporter": "python",
   "pygments_lexer": "ipython3",
   "version": "3.12.2"
  }
 },
 "nbformat": 4,
 "nbformat_minor": 2
}
